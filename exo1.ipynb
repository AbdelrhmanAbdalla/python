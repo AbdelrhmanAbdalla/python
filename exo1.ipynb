{
 "cells": [
  {
   "cell_type": "code",
   "execution_count": 23,
   "metadata": {},
   "outputs": [],
   "source": [
    "class CompteBancaire():\n",
    "    \n",
    "    def __init__(self, nom, solde):\n",
    "        self.nom = nom\n",
    "        self.solde = solde\n",
    "    \n",
    "    def depot(self,somme):\n",
    "        self.solde += somme\n",
    "    \n",
    "    def retrait(self,somme):\n",
    "        self.solde -= somme\n",
    "    \n",
    "    def affiche(self):\n",
    "        print(\"Le solde du compte bancaire de \"+str(self.nom)+\" est de \"+str(self.solde)+\" euros.\")\n",
    "        \n",
    "        "
   ]
  },
  {
   "cell_type": "code",
   "execution_count": 24,
   "metadata": {},
   "outputs": [
    {
     "name": "stdout",
     "output_type": "stream",
     "text": [
      "Le solde du compte bancaire de Abdel est de 10000 euros.\n",
      "Le solde du compte bancaire de Abdel est de 5000 euros.\n"
     ]
    }
   ],
   "source": [
    "compte1 = CompteBancaire(\"Abdel\", 9999)\n",
    "compte1.depot(1)\n",
    "compte1.affiche()\n",
    "compte1.retrait(5000)\n",
    "compte1.affiche()"
   ]
  },
  {
   "cell_type": "code",
   "execution_count": null,
   "metadata": {},
   "outputs": [],
   "source": []
  }
 ],
 "metadata": {
  "kernelspec": {
   "display_name": "Python 3",
   "language": "python",
   "name": "python3"
  },
  "language_info": {
   "codemirror_mode": {
    "name": "ipython",
    "version": 3
   },
   "file_extension": ".py",
   "mimetype": "text/x-python",
   "name": "python",
   "nbconvert_exporter": "python",
   "pygments_lexer": "ipython3",
   "version": "3.7.6"
  }
 },
 "nbformat": 4,
 "nbformat_minor": 4
}
