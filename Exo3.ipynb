{
 "cells": [
  {
   "cell_type": "code",
   "execution_count": 32,
   "metadata": {},
   "outputs": [],
   "source": [
    "class DateNaissance:\n",
    "    def __init__(self,jour,mois,année):\n",
    "        self.jour = jour\n",
    "        self.mois = mois\n",
    "        self.année = année\n",
    "    def ToString(self):\n",
    "        return \"Date de naissance : \"+str(self.jour)+\"/\"+str(self.mois)+\"/\"+str(self.année)\n",
    "    \n",
    "class Personne:\n",
    "    def __init__(self,nom,prénom,dateNaissance):\n",
    "        self.nom = nom\n",
    "        self.prénom = prénom\n",
    "        self.dateNaissance = dateNaissance\n",
    "        \n",
    "    def afficher(self):\n",
    "         print(\"Nom : \"+self.nom+'\\n'+\"Prénom : \"+self.prénom +'\\n'+ self.dateNaissance.ToString() )\n",
    "            \n",
    "class Employe(Personne):\n",
    "    def __init__(self,nom,prénom,dateNaissance,salaire):\n",
    "        self.salaire = salaire\n",
    "        super().__init__(nom,prénom,dateNaissance)\n",
    "    def afficher(self):\n",
    "         print(super().afficher(),\"Salaire :\" + str(self.salaire) )\n",
    "            \n",
    "class Chef(Employe):\n",
    "    def __init__(self,nom,prénom,dateNaissance,salaire,service):\n",
    "        self.service = service\n",
    "        super().__init__(nom,prénom,dateNaissance,salaire)\n",
    "    def afficher(self):\n",
    "         print(super().afficher(),\"Service :\" , self.service)"
   ]
  },
  {
   "cell_type": "code",
   "execution_count": 33,
   "metadata": {},
   "outputs": [
    {
     "data": {
      "text/plain": [
       "'Date de naissance : 8/10/1998'"
      ]
     },
     "execution_count": 33,
     "metadata": {},
     "output_type": "execute_result"
    }
   ],
   "source": [
    "D1 = DateNaissance(8,10,1998)\n",
    "D1.ToString()"
   ]
  },
  {
   "cell_type": "code",
   "execution_count": 34,
   "metadata": {},
   "outputs": [
    {
     "name": "stdout",
     "output_type": "stream",
     "text": [
      "Nom : Abdel\n",
      "Prénom : Abdalla\n",
      "Date de naissance : 8/10/1998\n"
     ]
    }
   ],
   "source": [
    "P=Personne(\"Abdel\",\"Abdalla\",DateNaissance(8,10,1998))\n",
    "P.afficher()"
   ]
  },
  {
   "cell_type": "code",
   "execution_count": 35,
   "metadata": {},
   "outputs": [
    {
     "name": "stdout",
     "output_type": "stream",
     "text": [
      "Nom : Abdel\n",
      "Prénom : Abdalla\n",
      "Date de naissance : 8/10/1998\n",
      "None Salaire :1948\n"
     ]
    }
   ],
   "source": [
    "E=Employe(\"Abdel\",\"Abdalla\",DateNaissance(8,10,1998) ,1948)\n",
    "E.afficher()"
   ]
  },
  {
   "cell_type": "code",
   "execution_count": 37,
   "metadata": {},
   "outputs": [
    {
     "name": "stdout",
     "output_type": "stream",
     "text": [
      "Nom : Abdel\n",
      "Prénom : Abdalla\n",
      "Date de naissance : 8/10/1998\n",
      "None Salaire :1948\n",
      "None Service : Informatique\n"
     ]
    }
   ],
   "source": [
    "Ch=Chef(\"Abdel\",\"Abdalla\",DateNaissance(8,10,1998) ,1948,\"Informatique\")\n",
    "Ch.afficher()"
   ]
  },
  {
   "cell_type": "code",
   "execution_count": null,
   "metadata": {},
   "outputs": [],
   "source": []
  },
  {
   "cell_type": "code",
   "execution_count": null,
   "metadata": {},
   "outputs": [],
   "source": []
  }
 ],
 "metadata": {
  "kernelspec": {
   "display_name": "Python 3",
   "language": "python",
   "name": "python3"
  },
  "language_info": {
   "codemirror_mode": {
    "name": "ipython",
    "version": 3
   },
   "file_extension": ".py",
   "mimetype": "text/x-python",
   "name": "python",
   "nbconvert_exporter": "python",
   "pygments_lexer": "ipython3",
   "version": "3.7.6"
  }
 },
 "nbformat": 4,
 "nbformat_minor": 4
}
