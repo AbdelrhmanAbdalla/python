{
 "cells": [
  {
   "cell_type": "code",
   "execution_count": 148,
   "metadata": {},
   "outputs": [],
   "source": [
    "import numpy as np\n",
    "class Envoi:\n",
    "    def __init__(self, poids, modeExpedition,adresseDestination, adresseExpedition):\n",
    "        self.poids = poids\n",
    "        self.modeExpedition = modeExpedition\n",
    "        self.adresseDestination = adresseDestination\n",
    "        self.adresseExpedition = adresseExpedition\n",
    "    def ToString(self):\n",
    "        print( \"Poids : \" + str(self.poids) +' grammes \\n'+ \"Mode : \" +  str(self.modeExpedition)+'\\n'+\"Adresse destination : \" +  str(self.adresseDestination)\n",
    "        +'\\n'+  \"Adresse d'expedition : \" + self.adresseExpedition)\n",
    "    def express(self, montant):\n",
    "        if self.modeExpedition==\"express\":\n",
    "            montant*=2\n",
    "        return montant;            \n",
    "\n",
    "class Lettre(Envoi):\n",
    "    def __init__(self, poids, modeExpedition,adresseDestination, adresseExpedition, format):\n",
    "        Envoi.__init__(self,poids, modeExpedition,adresseDestination, adresseExpedition)\n",
    "        self.format = format\n",
    "    def ToString(self):\n",
    "        print(\"Lettre : \")\n",
    "        Envoi.ToString(self)\n",
    "        print( \"Format : \" + self.format)\n",
    "        print(\"Prix du timbre : \" + str(self.calculTimbre()))\n",
    "    def calculTimbre(self):\n",
    "        if(self.format == \"A4\"):\n",
    "            tarif_base = 2.5\n",
    "        else:\n",
    "            tarif_base = 3.5\n",
    "        montant = tarif_base * self.poids/1000\n",
    "        montant = Envoi.express(self, montant)\n",
    "               \n",
    "        return montant                                \n",
    "\n",
    "class Colis(Envoi):\n",
    "    def __init__(self, poids, modeExpedition,adresseDestination, adresseExpedition, volume):\n",
    "        Envoi.__init__(self, poids, modeExpedition, adresseDestination, adresseExpedition)\n",
    "        self.volume = volume\n",
    "    def ToString(self):\n",
    "        print('Colis : \\n ')\n",
    "        print(super().ToString())\n",
    "        print(\"Volume :\"+ str(self.volume) +' litres \\n' + 'Prix du timbre : ' + str(self.calculTimbre()) )\n",
    "\n",
    "    def calculTimbre(self):\n",
    "        montant=0.25*self.volume*self.poids/1000\n",
    "        montant = Envoi.express(self, montant)\n",
    "\n",
    "        return montant"
   ]
  },
  {
   "cell_type": "code",
   "execution_count": 149,
   "metadata": {},
   "outputs": [
    {
     "name": "stdout",
     "output_type": "stream",
     "text": [
      "Lettre : \n",
      "Poids : 80 grammes \n",
      "Mode : normal\n",
      "Adresse destination : Lille\n",
      "Adresse d'expedition : Paris\n",
      "Format : A4\n",
      "Prix du timbre : 0.2\n"
     ]
    }
   ],
   "source": [
    "L1=Lettre(80,\"normal\",\"Lille\",\"Paris\",\"A4\")\n",
    "L1.ToString()"
   ]
  },
  {
   "cell_type": "code",
   "execution_count": 150,
   "metadata": {},
   "outputs": [
    {
     "name": "stdout",
     "output_type": "stream",
     "text": [
      "Colis : \n",
      " \n",
      "Poids : 3500 grammes \n",
      "Mode : express\n",
      "Adresse destination : Marrakeche\n",
      "Adresse d'expedition : Barcelone\n",
      "None\n",
      "Volume :2.25 litres \n",
      "Prix du timbre : 3.9375\n"
     ]
    }
   ],
   "source": [
    "C1=Colis(3500,\"express\",\"Marrakeche\",\"Barcelone\",2.25)\n",
    "C1.ToString()"
   ]
  },
  {
   "cell_type": "code",
   "execution_count": null,
   "metadata": {},
   "outputs": [],
   "source": []
  },
  {
   "cell_type": "code",
   "execution_count": null,
   "metadata": {},
   "outputs": [],
   "source": []
  }
 ],
 "metadata": {
  "kernelspec": {
   "display_name": "Python 3",
   "language": "python",
   "name": "python3"
  },
  "language_info": {
   "codemirror_mode": {
    "name": "ipython",
    "version": 3
   },
   "file_extension": ".py",
   "mimetype": "text/x-python",
   "name": "python",
   "nbconvert_exporter": "python",
   "pygments_lexer": "ipython3",
   "version": "3.7.6"
  }
 },
 "nbformat": 4,
 "nbformat_minor": 4
}
